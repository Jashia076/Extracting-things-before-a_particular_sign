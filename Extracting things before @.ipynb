{
 "cells": [
  {
   "cell_type": "code",
   "execution_count": 1,
   "id": "4ff673bb",
   "metadata": {},
   "outputs": [
    {
     "name": "stdout",
     "output_type": "stream",
     "text": [
      "Enter your email address: jashiaislam.buet@gmail.com\n",
      "jashiaislam.buet  is before @ sign\n"
     ]
    }
   ],
   "source": [
    "# taking user input\n",
    "a = input('Enter your email address: ') \n",
    "\n",
    "#coding:\n",
    "print(a[0 : a.index('@')],\" is before @ sign\" )\n",
    "# here the catch is from 0th index till we find the @, \n",
    "# we are going to print everything\n",
    "# so a[0: ], now since we don't know where @ is, \n",
    "# we are using \".index\" to search @"
   ]
  }
 ],
 "metadata": {
  "kernelspec": {
   "display_name": "Python 3 (ipykernel)",
   "language": "python",
   "name": "python3"
  },
  "language_info": {
   "codemirror_mode": {
    "name": "ipython",
    "version": 3
   },
   "file_extension": ".py",
   "mimetype": "text/x-python",
   "name": "python",
   "nbconvert_exporter": "python",
   "pygments_lexer": "ipython3",
   "version": "3.10.9"
  }
 },
 "nbformat": 4,
 "nbformat_minor": 5
}
